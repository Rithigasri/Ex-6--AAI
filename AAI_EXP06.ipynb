{
  "nbformat": 4,
  "nbformat_minor": 0,
  "metadata": {
    "colab": {
      "provenance": [],
      "authorship_tag": "ABX9TyPjn98b3baG9YaNy3YB4qSI",
      "include_colab_link": true
    },
    "kernelspec": {
      "name": "python3",
      "display_name": "Python 3"
    },
    "language_info": {
      "name": "python"
    }
  },
  "cells": [
    {
      "cell_type": "markdown",
      "metadata": {
        "id": "view-in-github",
        "colab_type": "text"
      },
      "source": [
        "<a href=\"https://colab.research.google.com/github/Rithigasri/Ex-6--AAI/blob/main/AAI_EXP06.ipynb\" target=\"_parent\"><img src=\"https://colab.research.google.com/assets/colab-badge.svg\" alt=\"Open In Colab\"/></a>"
      ]
    },
    {
      "cell_type": "code",
      "source": [
        "import nltk\n",
        "from nltk.corpus import wordnet\n",
        "\n",
        "nltk.download('punkt')\n",
        "nltk.download('averaged_perceptron_tagger')\n",
        "nltk.download('wordnet')\n",
        "\n",
        "def get_synonyms(word):\n",
        "    synonyms = set()\n",
        "    for syn in wordnet.synsets(word):\n",
        "        for lemma in syn.lemmas():\n",
        "            synonyms.add(lemma.name())\n",
        "    return synonyms\n",
        "\n",
        "def process_text_file(file_path):\n",
        "    with open(file_path, 'r') as file:\n",
        "        text = file.read()\n",
        "    return text  # Return the processed text\n",
        "\n",
        "text = process_text_file('/content/sample.txt')\n",
        "\n",
        "# Tokenize the text into sentences\n",
        "sentences = nltk.sent_tokenize(text)\n",
        "\n",
        "for sentence in sentences:\n",
        "    # Tokenize each sentence into words\n",
        "    words = nltk.word_tokenize(sentence)\n",
        "\n",
        "    # Perform part-of-speech tagging\n",
        "    pos_tags = nltk.pos_tag(words)\n",
        "\n",
        "    # Extract verbs\n",
        "    verbs = [word for word, pos in pos_tags if pos.startswith('V')]\n",
        "\n",
        "    # Get synonyms for each verb\n",
        "    for verb in verbs:\n",
        "        synonyms = get_synonyms(verb)\n",
        "        print(f\"Verb: {verb}\")\n",
        "        print(f\"Synonyms: {', '.join(synonyms)}\\n\")"
      ],
      "metadata": {
        "colab": {
          "base_uri": "https://localhost:8080/"
        },
        "id": "7oKdFQj7SPk5",
        "outputId": "eafbce2e-9a3f-4417-ea13-c84ff82837c1"
      },
      "execution_count": 14,
      "outputs": [
        {
          "output_type": "stream",
          "name": "stderr",
          "text": [
            "[nltk_data] Downloading package punkt to /root/nltk_data...\n",
            "[nltk_data]   Package punkt is already up-to-date!\n",
            "[nltk_data] Downloading package averaged_perceptron_tagger to\n",
            "[nltk_data]     /root/nltk_data...\n",
            "[nltk_data]   Package averaged_perceptron_tagger is already up-to-\n",
            "[nltk_data]       date!\n",
            "[nltk_data] Downloading package wordnet to /root/nltk_data...\n",
            "[nltk_data]   Package wordnet is already up-to-date!\n"
          ]
        },
        {
          "output_type": "stream",
          "name": "stdout",
          "text": [
            "Verb: is\n",
            "Synonyms: exist, embody, equal, follow, personify, be, cost, represent, constitute, comprise, live, make_up\n",
            "\n",
            "Verb: focuses\n",
            "Synonyms: rivet, focussing, centering, focal_point, focusing, direction, concentrate, centre, center, pore, concentre, nidus, sharpen, focus, focalize, concenter, focalise, stress\n",
            "\n",
            "Verb: enables\n",
            "Synonyms: enable\n",
            "\n",
            "Verb: understand\n",
            "Synonyms: sympathize, interpret, understand, empathize, realise, empathise, read, see, infer, sympathise, realize, translate\n",
            "\n",
            "Verb: interpret\n",
            "Synonyms: interpret, understand, render, read, see, construe, represent, rede, translate\n",
            "\n",
            "Verb: generate\n",
            "Synonyms: bring_forth, generate, render, give, beget, father, return, mother, yield, get, engender, sire\n",
            "\n",
            "Verb: encompasses\n",
            "Synonyms: comprehend, encompass, cover, embrace\n",
            "\n",
            "Verb: including\n",
            "Synonyms: admit, include, let_in\n",
            "\n",
            "Verb: named\n",
            "Synonyms: advert, nominate, bring_up, name, constitute, call, list, appoint, identify, make, refer, describe, distinguish, diagnose, discover, key, key_out, mention, cite\n",
            "\n",
            "Verb: are\n",
            "Synonyms: exist, embody, equal, ar, are, follow, personify, be, cost, represent, constitute, comprise, live, make_up\n",
            "\n",
            "Verb: used\n",
            "Synonyms: utilize, ill-used, victimised, exploited, secondhand, employ, victimized, habituate, use, used, utilise, practice, put-upon, expend, apply\n",
            "\n",
            "Verb: leveraging\n",
            "Synonyms: leverage, leveraging\n",
            "\n",
            "Verb: aims\n",
            "Synonyms: direct, place, purport, take, heading, aim, draw_a_bead_on, get, take_aim, calculate, drive, point, intention, object, shoot_for, target, aspire, bearing, purpose, train, propose, design, objective, intent\n",
            "\n",
            "Verb: bridge\n",
            "Synonyms: bridge_over, span, bridge_circuit, bridge, nosepiece, bridge_deck, bridgework\n",
            "\n"
          ]
        }
      ]
    },
    {
      "cell_type": "code",
      "source": [],
      "metadata": {
        "id": "Sz4ZZxlQSQdP"
      },
      "execution_count": null,
      "outputs": []
    }
  ]
}